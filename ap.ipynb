{
 "cells": [
  {
   "cell_type": "markdown",
   "metadata": {},
   "source": [
    "# Schedule Automation\n",
    "\n",
    "This system allows for users to::::"
   ]
  },
  {
   "cell_type": "code",
   "execution_count": 32,
   "metadata": {},
   "outputs": [],
   "source": [
    "import pandas as pd\n",
    "import sqlite3 as sql"
   ]
  },
  {
   "cell_type": "markdown",
   "metadata": {},
   "source": [
    "### Used sample data to showcase project and create the database\n",
    "\n",
    "- database files should be stored in the current working directory"
   ]
  },
  {
   "cell_type": "code",
   "execution_count": 33,
   "metadata": {},
   "outputs": [],
   "source": [
    "# Sample Data\n",
    "sample_data = {\n",
    "    'employee_names': ['Alice', 'Bob', 'Charlie', 'David', 'Eva', 'Frank', 'Grace', 'Hannah', 'Igor', 'Jill', 'Kyle', 'Linda'],\n",
    "    'date_hired': [\n",
    "        '01/01/2020', '02/01/2020', '03/01/2020', '04/01/2020', \n",
    "        '05/01/2020', '06/01/2020', '07/01/2020', '08/01/2020', \n",
    "        '09/01/2020', '10/01/2020', '11/01/2020', '12/01/2020'\n",
    "    ],\n",
    "    'availability': [\n",
    "        'weekdays', 'weekdays', 'weekdays', 'weekdays',\n",
    "        'weekdays', 'weekdays', 'weekdays', 'weekdays',\n",
    "        'weekdays', 'weekdays', 'weekdays', 'weekdays'\n",
    "    ],\n",
    "    'shift_type': [\n",
    "        'day', 'day', 'day', 'swing', 'swing', 'swing', \n",
    "        'day', 'day', 'day', 'swing', 'swing', 'swing'\n",
    "    ]\n",
    "}\n",
    "# Create DataFrame\n",
    "df = pd.DataFrame(sample_data)\n",
    "\n",
    "# Create Database file\n",
    "conn = sql.connect('employees.db')\n",
    "df.to_sql('employees', conn, if_exists='replace', index=False)\n",
    "conn.close()"
   ]
  },
  {
   "cell_type": "markdown",
   "metadata": {},
   "source": [
    "### Creating 2 functions for fixing formatting and the other for sorting data\n",
    "\n",
    "#### Important Notes: \n",
    "- dates should be stored as YYYY-MM-DD in SQL databases\n",
    "\n",
    "- If you don't want to use SQL commands to navigate data, use python's built in pandas functions after creating the DataFrame\n",
    "- python's sorting function should look like --> sorted_df = df.sort_values(by='date_hired')\n",
    "- It's easier to query directly when calling the database table that you are reading from"
   ]
  },
  {
   "cell_type": "code",
   "execution_count": 34,
   "metadata": {},
   "outputs": [],
   "source": [
    "def fix_date_format():\n",
    "\n",
    "    # Connect to the SQLite database\n",
    "    # Read data from the database into a DataFrame\n",
    "    # Change date_hired format to 'YYYY-MM-DD' format\n",
    "    # Close the database connection\n",
    "\n",
    "    conn = sql.connect('employees.db')\n",
    "    df = pd.read_sql(\"SELECT * FROM employees\", conn)\n",
    "    df['date_hired'] = pd.to_datetime(df['date_hired'], format='%m/%d/%Y').dt.strftime('%Y-%m-%d')\n",
    "    conn.close()"
   ]
  },
  {
   "cell_type": "code",
   "execution_count": 35,
   "metadata": {},
   "outputs": [],
   "source": [
    "def get_sorted_data():\n",
    "\n",
    "    # Connect to the SQLite database\n",
    "    # Query to get all data sorted by date_hired\n",
    "    # Read data from the database into a DataFrame\n",
    "    # Close the database connection\n",
    "    # Return the dataframe sorted\n",
    "    \n",
    "    conn = sql.connect('employees.db')\n",
    "    df = pd.read_sql(\"SELECT * FROM employees ORDER BY date_hired\", conn)\n",
    "    df['date_hired'] = pd.to_datetime(df['date_hired'], format='%m/%d/%Y').dt.strftime('%Y-%m-%d')\n",
    "    sorted_df = df.sort_values(by='date_hired')\n",
    "    conn.close()\n",
    "    return sorted_df"
   ]
  },
  {
   "cell_type": "code",
   "execution_count": 36,
   "metadata": {},
   "outputs": [
    {
     "data": {
      "text/html": [
       "<div>\n",
       "<style scoped>\n",
       "    .dataframe tbody tr th:only-of-type {\n",
       "        vertical-align: middle;\n",
       "    }\n",
       "\n",
       "    .dataframe tbody tr th {\n",
       "        vertical-align: top;\n",
       "    }\n",
       "\n",
       "    .dataframe thead th {\n",
       "        text-align: right;\n",
       "    }\n",
       "</style>\n",
       "<table border=\"1\" class=\"dataframe\">\n",
       "  <thead>\n",
       "    <tr style=\"text-align: right;\">\n",
       "      <th></th>\n",
       "      <th>employee_names</th>\n",
       "      <th>date_hired</th>\n",
       "      <th>availability</th>\n",
       "      <th>shift_type</th>\n",
       "    </tr>\n",
       "  </thead>\n",
       "  <tbody>\n",
       "    <tr>\n",
       "      <th>0</th>\n",
       "      <td>Alice</td>\n",
       "      <td>2020-01-01</td>\n",
       "      <td>weekdays</td>\n",
       "      <td>day</td>\n",
       "    </tr>\n",
       "    <tr>\n",
       "      <th>1</th>\n",
       "      <td>Bob</td>\n",
       "      <td>2020-02-01</td>\n",
       "      <td>weekdays</td>\n",
       "      <td>day</td>\n",
       "    </tr>\n",
       "    <tr>\n",
       "      <th>2</th>\n",
       "      <td>Charlie</td>\n",
       "      <td>2020-03-01</td>\n",
       "      <td>weekdays</td>\n",
       "      <td>day</td>\n",
       "    </tr>\n",
       "    <tr>\n",
       "      <th>3</th>\n",
       "      <td>David</td>\n",
       "      <td>2020-04-01</td>\n",
       "      <td>weekdays</td>\n",
       "      <td>swing</td>\n",
       "    </tr>\n",
       "    <tr>\n",
       "      <th>4</th>\n",
       "      <td>Eva</td>\n",
       "      <td>2020-05-01</td>\n",
       "      <td>weekdays</td>\n",
       "      <td>swing</td>\n",
       "    </tr>\n",
       "  </tbody>\n",
       "</table>\n",
       "</div>"
      ],
      "text/plain": [
       "  employee_names  date_hired availability shift_type\n",
       "0          Alice  2020-01-01     weekdays        day\n",
       "1            Bob  2020-02-01     weekdays        day\n",
       "2        Charlie  2020-03-01     weekdays        day\n",
       "3          David  2020-04-01     weekdays      swing\n",
       "4            Eva  2020-05-01     weekdays      swing"
      ]
     },
     "execution_count": 36,
     "metadata": {},
     "output_type": "execute_result"
    }
   ],
   "source": [
    "# Get the sorted data and print:\n",
    "sorted_data = get_sorted_data()\n",
    "sorted_data.head(5)"
   ]
  },
  {
   "cell_type": "markdown",
   "metadata": {},
   "source": [
    "### Create dataframes for each shift type\n",
    "\n",
    "- used for storing each schedule whether that be day, swing, etc."
   ]
  },
  {
   "cell_type": "code",
   "execution_count": 37,
   "metadata": {},
   "outputs": [
    {
     "data": {
      "text/plain": [
       "employee_names    12\n",
       "date_hired        12\n",
       "availability       1\n",
       "shift_type         2\n",
       "dtype: int64"
      ]
     },
     "execution_count": 37,
     "metadata": {},
     "output_type": "execute_result"
    }
   ],
   "source": [
    "# see number of dataframes needed to create\n",
    "sorted_data.nunique()"
   ]
  },
  {
   "cell_type": "code",
   "execution_count": null,
   "metadata": {},
   "outputs": [],
   "source": [
    "# Assuming sorted_data is already loaded\n",
    "unique_shift_types = sorted_data['shift_type'].unique()\n",
    "\n",
    "# Creating the two dataframes\n",
    "df1 = sorted_data[sorted_data['shift_type'] == unique_shift_types[0]]\n",
    "df2 = sorted_data[sorted_data['shift_type'] == unique_shift_types[1]]\n"
   ]
  }
 ],
 "metadata": {
  "kernelspec": {
   "display_name": "Python 3 (ipykernel)",
   "language": "python",
   "name": "python3"
  },
  "language_info": {
   "codemirror_mode": {
    "name": "ipython",
    "version": 3
   },
   "file_extension": ".py",
   "mimetype": "text/x-python",
   "name": "python",
   "nbconvert_exporter": "python",
   "pygments_lexer": "ipython3",
   "version": "3.9.13"
  }
 },
 "nbformat": 4,
 "nbformat_minor": 2
}
